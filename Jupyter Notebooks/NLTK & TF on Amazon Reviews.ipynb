{
 "cells": [
  {
   "cell_type": "markdown",
   "metadata": {},
   "source": [
    "## Load Libraries and Packages"
   ]
  },
  {
   "cell_type": "code",
   "execution_count": 1,
   "metadata": {},
   "outputs": [
    {
     "name": "stderr",
     "output_type": "stream",
     "text": [
      "[nltk_data] Downloading package stopwords to\n",
      "[nltk_data]     C:\\Users\\tedda\\AppData\\Roaming\\nltk_data...\n",
      "[nltk_data]   Package stopwords is already up-to-date!\n",
      "[nltk_data] Downloading package wordnet to\n",
      "[nltk_data]     C:\\Users\\tedda\\AppData\\Roaming\\nltk_data...\n",
      "[nltk_data]   Package wordnet is already up-to-date!\n"
     ]
    },
    {
     "data": {
      "text/plain": [
       "True"
      ]
     },
     "execution_count": 1,
     "metadata": {},
     "output_type": "execute_result"
    }
   ],
   "source": [
    "import pandas as pd\n",
    "import numpy as np\n",
    "import tensorflow as tf\n",
    "import keras\n",
    "from tensorflow.keras import layers, Sequential\n",
    "from tensorflow.keras.models import load_model\n",
    "from tensorflow.keras.layers import Dense, Embedding\n",
    "from tensorflow.keras.preprocessing.text import Tokenizer\n",
    "from tensorflow.keras.preprocessing.sequence import pad_sequences\n",
    "from sklearn.preprocessing import OneHotEncoder\n",
    "from sklearn.model_selection import train_test_split\n",
    "from keras.callbacks import EarlyStopping\n",
    "from matplotlib import pyplot as plt\n",
    "import seaborn as sns\n",
    "import re\n",
    "import nltk\n",
    "from nltk import word_tokenize\n",
    "from nltk.corpus import stopwords\n",
    "nltk.download('stopwords')\n",
    "nltk.download('wordnet')"
   ]
  },
  {
   "cell_type": "code",
   "execution_count": 2,
   "metadata": {},
   "outputs": [
    {
     "name": "stdout",
     "output_type": "stream",
     "text": [
      "Python Version: 3.8.8\n",
      "Tensorflow Version: 2.3.0\n"
     ]
    }
   ],
   "source": [
    "#Check version of Python and Tensorflow; There are some compatibility issues with TF 2.3, numpy 1.20, and Python 3.8\n",
    "#If interested, follow the ticket on Github here: https://github.com/tensorflow/models/issues/9706\n",
    "from platform import python_version\n",
    "\n",
    "print(\"Python Version:\", python_version())\n",
    "print(\"Tensorflow Version:\", tf.__version__)"
   ]
  },
  {
   "cell_type": "markdown",
   "metadata": {},
   "source": [
    "## Load in the raw amazon text data"
   ]
  },
  {
   "cell_type": "code",
   "execution_count": 3,
   "metadata": {},
   "outputs": [],
   "source": [
    "URL = 'C:/Users/tedda/Desktop/Data Science Portfolio/Machine Learning/Sentiment Analysis/NLTK & TF Sentiment Analysis on Amazon Reviews/Raw Datasets/amazon_cells_labelled.txt'\n",
    "amazon_data = pd.read_csv(URL, delimiter = '\\t', names = ['Review','Label'])"
   ]
  },
  {
   "cell_type": "code",
   "execution_count": 4,
   "metadata": {},
   "outputs": [
    {
     "data": {
      "text/html": [
       "<div>\n",
       "<style scoped>\n",
       "    .dataframe tbody tr th:only-of-type {\n",
       "        vertical-align: middle;\n",
       "    }\n",
       "\n",
       "    .dataframe tbody tr th {\n",
       "        vertical-align: top;\n",
       "    }\n",
       "\n",
       "    .dataframe thead th {\n",
       "        text-align: right;\n",
       "    }\n",
       "</style>\n",
       "<table border=\"1\" class=\"dataframe\">\n",
       "  <thead>\n",
       "    <tr style=\"text-align: right;\">\n",
       "      <th></th>\n",
       "      <th>Review</th>\n",
       "      <th>Label</th>\n",
       "    </tr>\n",
       "  </thead>\n",
       "  <tbody>\n",
       "    <tr>\n",
       "      <th>0</th>\n",
       "      <td>So there is no way for me to plug it in here i...</td>\n",
       "      <td>0</td>\n",
       "    </tr>\n",
       "    <tr>\n",
       "      <th>1</th>\n",
       "      <td>Good case, Excellent value.</td>\n",
       "      <td>1</td>\n",
       "    </tr>\n",
       "    <tr>\n",
       "      <th>2</th>\n",
       "      <td>Great for the jawbone.</td>\n",
       "      <td>1</td>\n",
       "    </tr>\n",
       "    <tr>\n",
       "      <th>3</th>\n",
       "      <td>Tied to charger for conversations lasting more...</td>\n",
       "      <td>0</td>\n",
       "    </tr>\n",
       "    <tr>\n",
       "      <th>4</th>\n",
       "      <td>The mic is great.</td>\n",
       "      <td>1</td>\n",
       "    </tr>\n",
       "  </tbody>\n",
       "</table>\n",
       "</div>"
      ],
      "text/plain": [
       "                                              Review  Label\n",
       "0  So there is no way for me to plug it in here i...      0\n",
       "1                        Good case, Excellent value.      1\n",
       "2                             Great for the jawbone.      1\n",
       "3  Tied to charger for conversations lasting more...      0\n",
       "4                                  The mic is great.      1"
      ]
     },
     "execution_count": 4,
     "metadata": {},
     "output_type": "execute_result"
    }
   ],
   "source": [
    "amazon_data.head() #show the first five reviews and their labels in our dataset"
   ]
  },
  {
   "cell_type": "code",
   "execution_count": 5,
   "metadata": {},
   "outputs": [
    {
     "data": {
      "text/html": [
       "<div>\n",
       "<style scoped>\n",
       "    .dataframe tbody tr th:only-of-type {\n",
       "        vertical-align: middle;\n",
       "    }\n",
       "\n",
       "    .dataframe tbody tr th {\n",
       "        vertical-align: top;\n",
       "    }\n",
       "\n",
       "    .dataframe thead th {\n",
       "        text-align: right;\n",
       "    }\n",
       "</style>\n",
       "<table border=\"1\" class=\"dataframe\">\n",
       "  <thead>\n",
       "    <tr style=\"text-align: right;\">\n",
       "      <th></th>\n",
       "      <th>Label</th>\n",
       "    </tr>\n",
       "  </thead>\n",
       "  <tbody>\n",
       "    <tr>\n",
       "      <th>count</th>\n",
       "      <td>1000.00000</td>\n",
       "    </tr>\n",
       "    <tr>\n",
       "      <th>mean</th>\n",
       "      <td>0.50000</td>\n",
       "    </tr>\n",
       "    <tr>\n",
       "      <th>std</th>\n",
       "      <td>0.50025</td>\n",
       "    </tr>\n",
       "    <tr>\n",
       "      <th>min</th>\n",
       "      <td>0.00000</td>\n",
       "    </tr>\n",
       "    <tr>\n",
       "      <th>25%</th>\n",
       "      <td>0.00000</td>\n",
       "    </tr>\n",
       "    <tr>\n",
       "      <th>50%</th>\n",
       "      <td>0.50000</td>\n",
       "    </tr>\n",
       "    <tr>\n",
       "      <th>75%</th>\n",
       "      <td>1.00000</td>\n",
       "    </tr>\n",
       "    <tr>\n",
       "      <th>max</th>\n",
       "      <td>1.00000</td>\n",
       "    </tr>\n",
       "  </tbody>\n",
       "</table>\n",
       "</div>"
      ],
      "text/plain": [
       "            Label\n",
       "count  1000.00000\n",
       "mean      0.50000\n",
       "std       0.50025\n",
       "min       0.00000\n",
       "25%       0.00000\n",
       "50%       0.50000\n",
       "75%       1.00000\n",
       "max       1.00000"
      ]
     },
     "execution_count": 5,
     "metadata": {},
     "output_type": "execute_result"
    }
   ],
   "source": [
    "amazon_data.describe()"
   ]
  },
  {
   "cell_type": "code",
   "execution_count": 6,
   "metadata": {},
   "outputs": [
    {
     "data": {
      "text/plain": [
       "<AxesSubplot:xlabel='Label', ylabel='count'>"
      ]
     },
     "execution_count": 6,
     "metadata": {},
     "output_type": "execute_result"
    },
    {
     "data": {
      "image/png": "[encoded data removed]",
      "text/plain": [
       "<Figure size 432x288 with 1 Axes>"
      ]
     },
     "metadata": {
      "needs_background": "light"
     },
     "output_type": "display_data"
    }
   ],
   "source": [
    "sns.countplot(x='Label', data = amazon_data) #Plot the distribution of positive and negative reviews in our dataset"
   ]
  },
  {
   "cell_type": "markdown",
   "metadata": {},
   "source": [
    "# Exploratory Data Analysis (Part II, B, 1)"
   ]
  },
  {
   "cell_type": "markdown",
   "metadata": {},
   "source": [
    "### Explore presence of unusual characters in the reviews (B1)"
   ]
  },
  {
   "cell_type": "code",
   "execution_count": 7,
   "metadata": {
    "scrolled": true
   },
   "outputs": [
    {
     "name": "stdout",
     "output_type": "stream",
     "text": [
      "[' ', '!', '\"', '#', '$', '%', '&', \"'\", '(', ')', '*', '+', ',', '-', '.', '/', '0', '1', '2', '3', '4', '5', '6', '7', '8', '9', ':', ';', '?', 'A', 'B', 'C', 'D', 'E', 'F', 'G', 'H', 'I', 'J', 'K', 'L', 'M', 'N', 'O', 'P', 'Q', 'R', 'S', 'T', 'U', 'V', 'W', 'X', 'Y', 'Z', '[', ']', 'a', 'b', 'c', 'd', 'e', 'f', 'g', 'h', 'i', 'j', 'k', 'l', 'm', 'n', 'o', 'p', 'q', 'r', 's', 't', 'u', 'v', 'w', 'x', 'y', 'z']\n"
     ]
    }
   ],
   "source": [
    "reviews = amazon_data['Review'] #split out the reviews from the labels to find the individual characters in each review\n",
    "char_list = []\n",
    "for review in reviews:\n",
    "    for char in review:\n",
    "        if char not in char_list: #If the character is not in our char_list, then append it. Only unique characters added\n",
    "            char_list.append(char)\n",
    "char_list = sorted(char_list)\n",
    "print(char_list) #this is a list of all individual characters in the reviews"
   ]
  },
  {
   "cell_type": "markdown",
   "metadata": {},
   "source": [
    "There are several punctuations and symbols which need to be parsed out of the data. The alphabet characters must be lower cased."
   ]
  },
  {
   "cell_type": "markdown",
   "metadata": {},
   "source": [
    "### Explore Vocabulary Size (B1)"
   ]
  },
  {
   "cell_type": "code",
   "execution_count": 8,
   "metadata": {},
   "outputs": [
    {
     "name": "stdout",
     "output_type": "stream",
     "text": [
      "Vocabulary Size: 1880\n"
     ]
    }
   ],
   "source": [
    "#Create the tokenizer\n",
    "tokenizer = Tokenizer(filters='!\"#$%&()*+,-./:;<=>?@[\\\\]^_`{|}~\\t\\n', lower=True,oov_token=\"<UKN>\")\n",
    "\n",
    "#Fit the tokenizer on the text\n",
    "tokenizer.fit_on_texts(reviews)\n",
    "\n",
    "#Extract the word index for each unique word in the text\n",
    "vocabulary = tokenizer.word_index\n",
    "vocabulary = sorted(vocabulary)\n",
    "print(\"Vocabulary Size:\",len(vocabulary)+1)"
   ]
  },
  {
   "cell_type": "markdown",
   "metadata": {},
   "source": [
    "### Explore Proposed Word Embedding Length"
   ]
  },
  {
   "cell_type": "markdown",
   "metadata": {},
   "source": [
    "Given that the vocabulary size is under 2000 for 1000 reviews, I have decided to double the minimum recommended word embedding length of 8 and use 16 as my proposed Word Embedding Length."
   ]
  },
  {
   "cell_type": "markdown",
   "metadata": {},
   "source": [
    "### Explore Statistical Justification for the chosen maximum sequence length (B1)"
   ]
  },
  {
   "cell_type": "code",
   "execution_count": 9,
   "metadata": {},
   "outputs": [
    {
     "name": "stdout",
     "output_type": "stream",
     "text": [
      "Maximum Sequence Length: 30\n"
     ]
    }
   ],
   "source": [
    "length_list = []\n",
    "for length in reviews:\n",
    "    length_list.append(len(length.split(' ')))\n",
    "\n",
    "max_review_length = np.max(length_list)\n",
    "print(\"Maximum Sequence Length:\", max_review_length) #this is the maximum sequence length"
   ]
  },
  {
   "cell_type": "markdown",
   "metadata": {},
   "source": [
    "# Data Preprocessing (Part II, B, 2-3)"
   ]
  },
  {
   "cell_type": "code",
   "execution_count": 10,
   "metadata": {},
   "outputs": [
    {
     "data": {
      "text/plain": [
       "'good case excellent value'"
      ]
     },
     "execution_count": 10,
     "metadata": {},
     "output_type": "execute_result"
    }
   ],
   "source": [
    "stopwds = stopwords.words('english')\n",
    "important_review_words_list = []\n",
    "for review in amazon_data['Review']:\n",
    "    review = re.sub('[^a-zA-Z]', ' ', review)\n",
    "    review = review.lower()\n",
    "    review = nltk.word_tokenize(review)\n",
    "    lemmatizer = nltk.WordNetLemmatizer()\n",
    "    review = [lemmatizer.lemmatize(word) for word in review]\n",
    "    review = [word for word in review if not word in stopwds]\n",
    "    review = ' '.join(review)\n",
    "    important_review_words_list.append(review)\n",
    "important_review_words_list[1]"
   ]
  },
  {
   "cell_type": "code",
   "execution_count": 11,
   "metadata": {},
   "outputs": [],
   "source": [
    "#After lemmatization and removal of stop words, set the final review word list as a np array\n",
    "x = np.array(important_review_words_list)"
   ]
  },
  {
   "cell_type": "code",
   "execution_count": 12,
   "metadata": {},
   "outputs": [
    {
     "data": {
      "text/plain": [
       "array([[1., 0.],\n",
       "       [0., 1.],\n",
       "       [0., 1.],\n",
       "       ...,\n",
       "       [1., 0.],\n",
       "       [1., 0.],\n",
       "       [1., 0.]])"
      ]
     },
     "execution_count": 12,
     "metadata": {},
     "output_type": "execute_result"
    }
   ],
   "source": [
    "#Use OneHotEncoding on our labels to get a 2d np array\n",
    "onehot = OneHotEncoder(sparse=False).fit_transform(amazon_data['Label'].to_numpy().reshape(-1,1))\n",
    "onehot"
   ]
  },
  {
   "cell_type": "code",
   "execution_count": 13,
   "metadata": {},
   "outputs": [],
   "source": [
    "#split our dataset into training (80%) and test sets (20%); Stratify is set to maintain even split of our labels\n",
    "x_train, x_test, y_train, y_test = train_test_split(x, onehot, test_size = 0.2, random_state = 1234, stratify = onehot)"
   ]
  },
  {
   "cell_type": "code",
   "execution_count": 14,
   "metadata": {
    "scrolled": true
   },
   "outputs": [
    {
     "name": "stdout",
     "output_type": "stream",
     "text": [
      "x_train shape: (800,)\n",
      "x_test shape: (200,)\n",
      "y_train shape: (800, 2)\n",
      "y_test shape: (200, 2)\n"
     ]
    }
   ],
   "source": [
    "#Check the size of our training and test sets\n",
    "print(\"x_train shape:\", x_train.shape)\n",
    "print(\"x_test shape:\", x_test.shape)\n",
    "print(\"y_train shape:\", y_train.shape)\n",
    "print(\"y_test shape:\", y_test.shape)"
   ]
  },
  {
   "cell_type": "code",
   "execution_count": 15,
   "metadata": {},
   "outputs": [
    {
     "name": "stdout",
     "output_type": "stream",
     "text": [
      "Good Reviews in Training Set: 400\n",
      "Bad Reviews in Training Set: 400\n"
     ]
    }
   ],
   "source": [
    "#Check if stratify worked\n",
    "df_y=pd.DataFrame(y_train)\n",
    "good = df_y[df_y[1]==1.0]\n",
    "bad = df_y[df_y[0]==1.0]\n",
    "print(\"Good Reviews in Training Set:\",good.shape[0])\n",
    "print(\"Bad Reviews in Training Set:\", bad.shape[0])"
   ]
  },
  {
   "cell_type": "code",
   "execution_count": 16,
   "metadata": {},
   "outputs": [],
   "source": [
    "#Create the tokenizer\n",
    "tokenizer = Tokenizer(num_words = len(vocabulary)+1, oov_token=\"<UKN>\")\n",
    "\n",
    "#Fit the tokenizer on the text\n",
    "tokenizer.fit_on_texts(x_train)\n",
    "\n",
    "#Extract the word index for each unique word in the text\n",
    "word_index = tokenizer.word_index"
   ]
  },
  {
   "cell_type": "code",
   "execution_count": 17,
   "metadata": {},
   "outputs": [],
   "source": [
    "#Create sequences of each review for our training and testing sets\n",
    "x_train_seq = tokenizer.texts_to_sequences(x_train)\n",
    "pre_pad_train = pad_sequences(x_train_seq, maxlen = max_review_length, padding='pre')\n",
    "\n",
    "x_test_seq = tokenizer.texts_to_sequences(x_test)\n",
    "pre_pad_test = pad_sequences(x_test_seq, maxlen = max_review_length, padding='pre')"
   ]
  },
  {
   "cell_type": "code",
   "execution_count": 18,
   "metadata": {},
   "outputs": [],
   "source": [
    "#Convert the training and test sets to np arrays\n",
    "x_train_padded = np.array(pre_pad_train)\n",
    "y_train_labels = np.array(y_train)\n",
    "\n",
    "x_test_padded = np.array(pre_pad_test)\n",
    "y_test_labels = np.array(y_test)"
   ]
  },
  {
   "cell_type": "code",
   "execution_count": 19,
   "metadata": {},
   "outputs": [
    {
     "name": "stdout",
     "output_type": "stream",
     "text": [
      "doe everything\n"
     ]
    },
    {
     "data": {
      "text/plain": [
       "array([ 0,  0,  0,  0,  0,  0,  0,  0,  0,  0,  0,  0,  0,  0,  0,  0,  0,\n",
       "        0,  0,  0,  0,  0,  0,  0,  0,  0,  0,  0, 26, 97])"
      ]
     },
     "execution_count": 19,
     "metadata": {},
     "output_type": "execute_result"
    }
   ],
   "source": [
    "print(x_train[123])\n",
    "x_train_padded[123]"
   ]
  },
  {
   "cell_type": "code",
   "execution_count": 20,
   "metadata": {},
   "outputs": [],
   "source": [
    "# Export the cleaned training and test sets\n",
    "pd.DataFrame(x_train_padded).to_csv('C:/Users/tedda/Desktop/Data Science Portfolio/Machine Learning/Sentiment Analysis/NLTK & TF Sentiment Analysis on Amazon Reviews/Cleansed Datasets/Training_Data.csv')\n",
    "pd.DataFrame(y_train_labels).to_csv('C:/Users/tedda/Desktop/Data Science Portfolio/Machine Learning/Sentiment Analysis/NLTK & TF Sentiment Analysis on Amazon Reviews/Cleansed Datasets/Training_Labels.csv')\n",
    "pd.DataFrame(x_test_padded).to_csv('C:/Users/tedda/Desktop/Data Science Portfolio/Machine Learning/Sentiment Analysis/NLTK & TF Sentiment Analysis on Amazon Reviews/Cleansed Datasets/Test_Data.csv')\n",
    "pd.DataFrame(y_test_labels).to_csv('C:/Users/tedda/Desktop/Data Science Portfolio/Machine Learning/Sentiment Analysis/NLTK & TF Sentiment Analysis on Amazon Reviews/Cleansed Datasets/Test_Labels.csv')"
   ]
  },
  {
   "cell_type": "markdown",
   "metadata": {},
   "source": [
    "# Sentiment Analysis"
   ]
  },
  {
   "cell_type": "markdown",
   "metadata": {},
   "source": [
    "### Build the Model"
   ]
  },
  {
   "cell_type": "code",
   "execution_count": 21,
   "metadata": {
    "scrolled": true
   },
   "outputs": [
    {
     "name": "stdout",
     "output_type": "stream",
     "text": [
      "Model: \"Dense_model\"\n",
      "_________________________________________________________________\n",
      "Layer (type)                 Output Shape              Param #   \n",
      "=================================================================\n",
      "embedding (Embedding)        (None, 30, 16)            21968     \n",
      "_________________________________________________________________\n",
      "flatten (Flatten)            (None, 480)               0         \n",
      "_________________________________________________________________\n",
      "dense (Dense)                (None, 128)               61568     \n",
      "_________________________________________________________________\n",
      "dropout (Dropout)            (None, 128)               0         \n",
      "_________________________________________________________________\n",
      "dense_1 (Dense)              (None, 64)                8256      \n",
      "_________________________________________________________________\n",
      "dense_2 (Dense)              (None, 2)                 130       \n",
      "=================================================================\n",
      "Total params: 91,922\n",
      "Trainable params: 91,922\n",
      "Non-trainable params: 0\n",
      "_________________________________________________________________\n"
     ]
    }
   ],
   "source": [
    "vocab_size = len(word_index)+1\n",
    "embedding_dim = 16\n",
    "max_length = max_review_length\n",
    "\n",
    "model = keras.Sequential(name = \"Dense_model\")\n",
    "model.add(keras.layers.Embedding(input_dim = vocab_size, output_dim = embedding_dim, input_length = max_review_length))\n",
    "model.add(keras.layers.Flatten())\n",
    "model.add(keras.layers.Dense(128, activation = 'sigmoid'))\n",
    "model.add(keras.layers.Dropout(rate=0.1))\n",
    "model.add(keras.layers.Dense(64, activation = 'sigmoid'))\n",
    "model.add(keras.layers.Dense(2, activation = 'softmax'))\n",
    "model.compile(loss='binary_crossentropy', optimizer='adam', metrics = ['accuracy'])\n",
    "\n",
    "model.summary()"
   ]
  },
  {
   "cell_type": "code",
   "execution_count": 22,
   "metadata": {},
   "outputs": [
    {
     "name": "stdout",
     "output_type": "stream",
     "text": [
      "Epoch 1/15\n",
      "23/23 [==============================] - 0s 17ms/step - loss: 0.7267 - accuracy: 0.4681 - val_loss: 0.6948 - val_accuracy: 0.4750\n",
      "Epoch 2/15\n",
      "23/23 [==============================] - 0s 5ms/step - loss: 0.6957 - accuracy: 0.5069 - val_loss: 0.7060 - val_accuracy: 0.4750\n",
      "Epoch 3/15\n",
      "23/23 [==============================] - 0s 4ms/step - loss: 0.6917 - accuracy: 0.5611 - val_loss: 0.6878 - val_accuracy: 0.5250\n",
      "Epoch 4/15\n",
      "23/23 [==============================] - 0s 4ms/step - loss: 0.6885 - accuracy: 0.5208 - val_loss: 0.6818 - val_accuracy: 0.5125\n",
      "Epoch 5/15\n",
      "23/23 [==============================] - 0s 4ms/step - loss: 0.6507 - accuracy: 0.6931 - val_loss: 0.6649 - val_accuracy: 0.5375\n",
      "Epoch 6/15\n",
      "23/23 [==============================] - 0s 4ms/step - loss: 0.5885 - accuracy: 0.8764 - val_loss: 0.6201 - val_accuracy: 0.7500\n",
      "Epoch 7/15\n",
      "23/23 [==============================] - 0s 4ms/step - loss: 0.4715 - accuracy: 0.9333 - val_loss: 0.5441 - val_accuracy: 0.8000\n",
      "Epoch 8/15\n",
      "23/23 [==============================] - 0s 4ms/step - loss: 0.3141 - accuracy: 0.9528 - val_loss: 0.4896 - val_accuracy: 0.7500\n",
      "Epoch 9/15\n",
      "23/23 [==============================] - 0s 4ms/step - loss: 0.1849 - accuracy: 0.9750 - val_loss: 0.4332 - val_accuracy: 0.7875\n",
      "Epoch 10/15\n",
      "23/23 [==============================] - 0s 4ms/step - loss: 0.1145 - accuracy: 0.9833 - val_loss: 0.4070 - val_accuracy: 0.7875\n"
     ]
    }
   ],
   "source": [
    "callback = EarlyStopping(monitor = 'val_accuracy', patience = 3)\n",
    "history = model.fit(x_train_padded, y_train_labels, batch_size = 32, epochs = 15, validation_split = 0.1, \n",
    "                    callbacks = callback, verbose = True)"
   ]
  },
  {
   "cell_type": "markdown",
   "metadata": {},
   "source": [
    "\n",
    "## Plot the loss and accuracy metrics on line graphs"
   ]
  },
  {
   "cell_type": "code",
   "execution_count": 23,
   "metadata": {},
   "outputs": [
    {
     "data": {
      "image/png": "[encoded data removed]",
      "text/plain": [
       "<Figure size 432x288 with 2 Axes>"
      ]
     },
     "metadata": {
      "needs_background": "light"
     },
     "output_type": "display_data"
    }
   ],
   "source": [
    "lossplot = plt.subplot(1, 2, 1)\n",
    "plt.plot(history.history['loss'], label = 'train loss')\n",
    "plt.plot(history.history['val_loss'], label = 'val loss')\n",
    "plt.xlabel('epoch')\n",
    "plt.ylabel('crossentropy loss')\n",
    "plt.legend()\n",
    "\n",
    "accplot = plt.subplot(1, 2, 2)\n",
    "plt.plot(history.history['accuracy'], label = 'train acc')\n",
    "plt.plot(history.history['val_accuracy'], label = 'val acc')\n",
    "plt.xlabel('epoch')\n",
    "plt.ylabel('crossentropy loss')\n",
    "plt.legend()\n",
    "plt.show()"
   ]
  },
  {
   "cell_type": "code",
   "execution_count": 24,
   "metadata": {},
   "outputs": [
    {
     "name": "stdout",
     "output_type": "stream",
     "text": [
      "7/7 [==============================] - 0s 2ms/step - loss: 0.5367 - accuracy: 0.7500\n",
      "Testing Dataset Loss: 0.54\n",
      "Testing Dataset Accuracy: 0.75\n"
     ]
    }
   ],
   "source": [
    "test_loss, test_accuracy = model.evaluate(x_test_padded, y_test_labels)\n",
    "print(\"Testing Dataset Loss:\", round(test_loss,2))\n",
    "print(\"Testing Dataset Accuracy:\", round(test_accuracy,2))"
   ]
  },
  {
   "cell_type": "markdown",
   "metadata": {},
   "source": [
    "# Save and reload in my model for prediction"
   ]
  },
  {
   "cell_type": "code",
   "execution_count": 25,
   "metadata": {},
   "outputs": [],
   "source": [
    "model_url = 'C:/Users/tedda/Desktop/Data Science Portfolio/Machine Learning/Sentiment Analysis/NLTK & TF Sentiment Analysis on Amazon Reviews/Exported Models/SentimentAnalysisModel_DeepNN.h5'\n",
    "model.save(model_url)"
   ]
  },
  {
   "cell_type": "code",
   "execution_count": 26,
   "metadata": {},
   "outputs": [],
   "source": [
    "SA_model = load_model(model_url)"
   ]
  },
  {
   "cell_type": "markdown",
   "metadata": {},
   "source": [
    "# Make Predictions"
   ]
  },
  {
   "cell_type": "code",
   "execution_count": 27,
   "metadata": {},
   "outputs": [
    {
     "name": "stdout",
     "output_type": "stream",
     "text": [
      "Review: really recommend faceplate since look nice elegant cool\n",
      "Actual Label: Positive Review\n",
      "Predicted Label: Positive Review\n"
     ]
    }
   ],
   "source": [
    "predictions = SA_model.predict(x_test_padded)\n",
    "\n",
    "print(\"Review:\", x_test[124])\n",
    "print(\"Actual Label:\", \"Positive Review\" if y_test[124][1] == 1 else \"Negative Review\")\n",
    "print(\"Predicted Label:\", \"Positive Review\" if predictions[124][1] >= 0.5 else \"Negative Review\")"
   ]
  }
 ],
 "metadata": {
  "kernelspec": {
   "display_name": "Python 3",
   "language": "python",
   "name": "python3"
  },
  "language_info": {
   "codemirror_mode": {
    "name": "ipython",
    "version": 3
   },
   "file_extension": ".py",
   "mimetype": "text/x-python",
   "name": "python",
   "nbconvert_exporter": "python",
   "pygments_lexer": "ipython3",
   "version": "3.8.8"
  }
 },
 "nbformat": 4,
 "nbformat_minor": 4
}
